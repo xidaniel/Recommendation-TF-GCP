{
 "cells": [
  {
   "cell_type": "markdown",
   "metadata": {
    "deletable": true,
    "editable": true
   },
   "source": [
    "## Content Based Filtering by hand\n",
    "\n",
    "This lab illustrates how to implement a content based filter using low level Tensorflow operations.  \n",
    "The code here follows the technique explained in Module 2 of Recommendation Engines: Content Based Filtering.\n",
    "\n"
   ]
  },
  {
   "cell_type": "code",
   "execution_count": 1,
   "metadata": {
    "collapsed": false,
    "deletable": true,
    "editable": true
   },
   "outputs": [
    {
     "name": "stderr",
     "output_type": "stream",
     "text": [
      "/usr/local/envs/py2env/lib/python2.7/site-packages/h5py/__init__.py:36: FutureWarning: Conversion of the second argument of issubdtype from `float` to `np.floating` is deprecated. In future, it will be treated as `np.float64 == np.dtype(float).type`.\n",
      "  from ._conv import register_converters as _register_converters\n"
     ]
    },
    {
     "name": "stdout",
     "output_type": "stream",
     "text": [
      "1.8.0\n"
     ]
    }
   ],
   "source": [
    "import numpy as np\n",
    "import tensorflow as tf\n",
    "\n",
    "tf.reset_default_graph()\n",
    "print(tf.__version__)"
   ]
  },
  {
   "cell_type": "markdown",
   "metadata": {
    "deletable": true,
    "editable": true
   },
   "source": [
    "To start, we'll create our list of users, movies and features. While the users and movies represent elements in our database, for a content-based filtering method the features of the movies are likely hand-engineered and rely on domain knowledge to provide the best embedding space. Here we use the categories of Action, Sci-Fi, Comedy, Cartoon, and Drama to describe our movies (and thus our users).\n",
    "\n",
    "In this example, we will assume our database consists of four users and six movies, listed below.  "
   ]
  },
  {
   "cell_type": "code",
   "execution_count": 3,
   "metadata": {
    "collapsed": true,
    "deletable": true,
    "editable": true
   },
   "outputs": [],
   "source": [
    "users = ['Ryan', 'Danielle',  'Vijay', 'Chris']\n",
    "movies = ['Star Wars', 'The Dark Knight', 'Shrek', 'The Incredibles', 'Bleu', 'Memento']\n",
    "features = ['Action', 'Sci-Fi', 'Comedy', 'Cartoon', 'Drama']\n",
    "\n",
    "num_users = len(users)\n",
    "num_movies = len(movies)\n",
    "num_feats = len(features)"
   ]
  },
  {
   "cell_type": "markdown",
   "metadata": {
    "deletable": true,
    "editable": true
   },
   "source": [
    "### Initialize our users, movie ratings and features\n",
    "\n",
    "We'll need to enter the user's movie ratings and the k-hot encoded movie features matrix. Each row of the users_movies matrix represents a single user's rating (from 1 to 10) for each movie. A zero indicates that the user has not seen/rated that movie. The movies_feats matrix contains the features for each of the given movies. Each row represents one of the six movies, the columns represent the five categories. A one indicates that a movie fits within a given genre/category. "
   ]
  },
  {
   "cell_type": "code",
   "execution_count": 4,
   "metadata": {
    "collapsed": true,
    "deletable": true,
    "editable": true
   },
   "outputs": [],
   "source": [
    "# each row represents a user's rating for the different movies\n",
    "# e.g. rows represent users ['Ryan', 'Danielle',  'Vijay', 'Chris']\n",
    "#      columns represent movies ['Star Wars', 'The Dark Knight', 'Shrek', 'The Incredibles', 'Bleu', 'Memento']\n",
    "users_movies = [[4,  6,  8,  0, 0, 0],\n",
    "                [0,  0, 10,  0, 8, 3],\n",
    "                [0,  6,  0,  0, 3, 7],\n",
    "                [10, 9,  0,  5, 0, 2]]\n",
    "\n",
    "# features of the movies one-hot encoded\n",
    "# e.g. columns represent ['Action', 'Sci-Fi', 'Comedy', 'Cartoon', 'Drama']\n",
    "movies_feats = [[1, 1, 0, 0, 1],\n",
    "                [1, 1, 0, 0, 0],\n",
    "                [0, 0, 1, 1, 0],\n",
    "                [1, 0, 1, 1, 0],\n",
    "                [0, 0, 0, 0, 1],\n",
    "                [1, 0, 0, 0, 1]]"
   ]
  },
  {
   "cell_type": "markdown",
   "metadata": {
    "deletable": true,
    "editable": true
   },
   "source": [
    "### Computing the user feature matrix\n",
    "\n",
    "One goal of this lab is to familiarize ourselves with low-level tensorflow operations, so we create tensorflow constants to represent the user-movie interaction and movie-feature matrices above.  \n",
    "Through the subsequent cells, we will compute the user feature matrix; that is, a matrix containing each user's embedding in the five-dimensional feature space. \n",
    "Complete the TODOs to compute the requested tensors as illustrated in the Content Based Filtering module slides. "
   ]
  },
  {
   "cell_type": "code",
   "execution_count": 5,
   "metadata": {
    "collapsed": true,
    "deletable": true,
    "editable": true
   },
   "outputs": [],
   "source": [
    "users_movies = tf.constant(users_movies, dtype = tf.float32)\n",
    "movies_feats = tf.constant(movies_feats, dtype = tf.float32)"
   ]
  },
  {
   "cell_type": "code",
   "execution_count": 7,
   "metadata": {
    "collapsed": true,
    "deletable": true,
    "editable": true
   },
   "outputs": [],
   "source": [
    "wgtd_feature_matrices = [tf.expand_dims(tf.transpose(users_movies)[:, 1], axis=1) * movies_feats for i in range (0, num_users)]\n",
    "#TODO: Create a list of weighted feature matrices for each user. \n",
    "                        # For each row of the user-movie interaction matrix, scale the corresponding row \n",
    "                        # of the movie-feature matrix to get the weighted feature matrix for each user.\n",
    "\n",
    "users_movies_feats = tf.stack(wgtd_feature_matrices) \n",
    "#TODO: Stack the collection of wgtd_feature_matrices you computed above to obtain the \n",
    "                     # full users movie feature tensor."
   ]
  },
  {
   "cell_type": "markdown",
   "metadata": {
    "deletable": true,
    "editable": true
   },
   "source": [
    "To determine where each user lies in the feature embedding space, we compute the user-feature vectors by normalizing each user-feature vector. Complete the TODO in the following cell to find the full user-feature tensor; that is, a tensor where each row represents a single user's feature embedding. "
   ]
  },
  {
   "cell_type": "code",
   "execution_count": 11,
   "metadata": {
    "collapsed": true,
    "deletable": true,
    "editable": true
   },
   "outputs": [],
   "source": [
    "users_movies_feats_sums = tf.reduce_sum(users_movies_feats, axis = 1)\n",
    "users_movies_feats_totals = tf.reduce_sum(users_movies_feats_sums, axis = 1)\n",
    "\n",
    "users_feats = tf.stack([users_movies_feats_sums[1, :]/users_movies_feats_totals[i] for i in range(num_users)], axis=0)\n",
    "#TODO: Normalize the users_movies_feats tensor above for each user and aggregate \n",
    "              # to get the 'user profile' across the five features.\n",
    "              # Hint: Divide these two quantities to normalize each feature. Use tf.stack to \n",
    "              # combine each user-feature vector into a single rank-2 tensor. "
   ]
  },
  {
   "cell_type": "markdown",
   "metadata": {
    "deletable": true,
    "editable": true
   },
   "source": [
    "#### Ranking feature relevance for each user\n",
    "\n",
    "We can use the users_feats computed above to represent the relative importance of each movie category for each user. To do this, we'll make a small helper function below that finds the rank ordered movie features for a given user. "
   ]
  },
  {
   "cell_type": "code",
   "execution_count": 12,
   "metadata": {
    "collapsed": true,
    "deletable": true,
    "editable": true
   },
   "outputs": [],
   "source": [
    "def find_user_top_feats(user_index):\n",
    "    # returns a list of the rank ordered features of most importance for a given user\n",
    "    feats_ind = tf.nn.top_k(users_feats[user_index], num_feats)[1]\n",
    "    return tf.gather_nd(features, tf.expand_dims(feats_ind, axis = 1))"
   ]
  },
  {
   "cell_type": "markdown",
   "metadata": {
    "deletable": true,
    "editable": true
   },
   "source": [
    "We'll create a tensorflow session to compute these values."
   ]
  },
  {
   "cell_type": "code",
   "execution_count": 13,
   "metadata": {
    "collapsed": true,
    "deletable": true,
    "editable": true
   },
   "outputs": [],
   "source": [
    "with tf.Session() as sess:\n",
    "  sess.run(tf.global_variables_initializer())\n",
    "  users_topfeats = {}\n",
    "  for i in range(num_users):\n",
    "    top_feats = sess.run(find_user_top_feats(i))\n",
    "    users_topfeats[users[i]] = list(top_feats)"
   ]
  },
  {
   "cell_type": "markdown",
   "metadata": {
    "deletable": true,
    "editable": true
   },
   "source": [
    "The dictionary users_topfeats provides the most important movie features for each user. For example, we can see for Chris, the category 'Action' has a strong influence on the movies he's rated highly. The category of Cartoons is less relevant."
   ]
  },
  {
   "cell_type": "code",
   "execution_count": 14,
   "metadata": {
    "collapsed": false,
    "deletable": true,
    "editable": true
   },
   "outputs": [
    {
     "data": {
      "text/plain": [
       "{'Chris': ['Drama', 'Comedy', 'Cartoon', 'Action', 'Sci-Fi'],\n",
       " 'Danielle': ['Drama', 'Comedy', 'Cartoon', 'Action', 'Sci-Fi'],\n",
       " 'Ryan': ['Drama', 'Comedy', 'Cartoon', 'Action', 'Sci-Fi'],\n",
       " 'Vijay': ['Drama', 'Comedy', 'Cartoon', 'Action', 'Sci-Fi']}"
      ]
     },
     "execution_count": 14,
     "metadata": {},
     "output_type": "execute_result"
    }
   ],
   "source": [
    "users_topfeats"
   ]
  },
  {
   "cell_type": "markdown",
   "metadata": {
    "deletable": true,
    "editable": true
   },
   "source": [
    "### Determining movie recommendations. \n",
    "\n",
    "We'll now use the user-feature tensor we computed above to determine the movie ratings and recommendations for each user.\n",
    "\n",
    "To compute the projected ratings for each movie, we compute the similarity measure between the user's feature vector and the corresponding movie feature vector.  \n",
    "We will use the dot product as our similarity measure. In essence, this is a weighted movie average for each user. Complete the TODOs in the following cell."
   ]
  },
  {
   "cell_type": "code",
   "execution_count": 22,
   "metadata": {
    "collapsed": true,
    "deletable": true,
    "editable": true
   },
   "outputs": [],
   "source": [
    "users_ratings = [tf.map_fn(lambda x: tf.tensordot(users_feats[i], x, axes=1), movies_feats) for i in range(num_users)]\n",
    "#TODO: Compute the dot product similarity between each row of the \n",
    "                # users_feats matrix and each row of the movies_feats matrix.\n",
    "                # Hint: the tf.map_fn applies a given lambda function to a list of tensors. \n",
    "                # The operation tf.tensordot computes the dot product between two tensors. Use the tf.tensordot \n",
    "                # operation and specify the axes=1, since each row of these matrices is a rank-1 tensor.\n",
    "\n",
    "all_users_ratings = tf.stack(users_ratings)"
   ]
  },
  {
   "cell_type": "markdown",
   "metadata": {
    "deletable": true,
    "editable": true
   },
   "source": [
    "The computation above finds the similarity measure between each user and each movie in our database. To focus only on the ratings for new movies, we apply a mask to the all_users_ratings matrix.  \n",
    "If a user has already rated a movie, we ignore that rating. This way, we only focus on ratings for previously unseen/unrated movies."
   ]
  },
  {
   "cell_type": "code",
   "execution_count": 23,
   "metadata": {
    "collapsed": true,
    "deletable": true,
    "editable": true
   },
   "outputs": [],
   "source": [
    "all_users_ratings_new = tf.where(tf.equal(users_movies, tf.zeros_like(users_movies)),\n",
    "                                  all_users_ratings,\n",
    "                                  -np.inf*tf.ones_like(tf.cast(users_movies, tf.float32)))"
   ]
  },
  {
   "cell_type": "markdown",
   "metadata": {
    "deletable": true,
    "editable": true
   },
   "source": [
    "The helper function below uses the users ratings matrix we computed above, to determine the index of the top movie recommendations for each user."
   ]
  },
  {
   "cell_type": "code",
   "execution_count": 24,
   "metadata": {
    "collapsed": true,
    "deletable": true,
    "editable": true
   },
   "outputs": [],
   "source": [
    "def find_user_top_movies(user_index, num_to_recommend):\n",
    "    # returns the top movie recommendations for given user index\n",
    "    movies_ind = tf.nn.top_k(all_users_ratings_new[user_index], num_to_recommend)[1]\n",
    "    return tf.gather_nd(movies, tf.expand_dims(movies_ind, axis = 1))"
   ]
  },
  {
   "cell_type": "markdown",
   "metadata": {
    "deletable": true,
    "editable": true
   },
   "source": [
    "As before, we create a tf.Session to compute the movie recommendations. "
   ]
  },
  {
   "cell_type": "code",
   "execution_count": 25,
   "metadata": {
    "collapsed": true,
    "deletable": true,
    "editable": true
   },
   "outputs": [],
   "source": [
    "with tf.Session() as sess:\n",
    "    sess.run(tf.global_variables_initializer())\n",
    "    user_topmovies = {}\n",
    "    num_to_recommend = tf.reduce_sum(tf.cast(tf.equal(users_movies, \n",
    "                                                      tf.zeros_like(users_movies)), dtype = tf.float32), axis = 1)\n",
    "    for ind in range(num_users):\n",
    "      top_movies = sess.run(find_user_top_movies(ind, tf.cast(num_to_recommend[ind], dtype = tf.int32)))\n",
    "      user_topmovies[users[ind]] = list(top_movies)         "
   ]
  },
  {
   "cell_type": "code",
   "execution_count": 26,
   "metadata": {
    "collapsed": false,
    "deletable": true,
    "editable": true
   },
   "outputs": [
    {
     "data": {
      "text/plain": [
       "{'Chris': ['Shrek', 'Bleu'],\n",
       " 'Danielle': ['The Incredibles', 'Star Wars', 'The Dark Knight'],\n",
       " 'Ryan': ['The Incredibles', 'Memento', 'Bleu'],\n",
       " 'Vijay': ['The Incredibles', 'Shrek', 'Star Wars']}"
      ]
     },
     "execution_count": 26,
     "metadata": {},
     "output_type": "execute_result"
    }
   ],
   "source": [
    "user_topmovies"
   ]
  },
  {
   "cell_type": "markdown",
   "metadata": {
    "deletable": true,
    "editable": true
   },
   "source": [
    "The user_topmovies dictionary now holds the recommendations we should make for each user. For example, for Danielle, we would recommend the movie The Incredibles as a top pick, followed by Star Wars and then The Dark Knight."
   ]
  },
  {
   "cell_type": "code",
   "execution_count": null,
   "metadata": {
    "collapsed": true,
    "deletable": true,
    "editable": true
   },
   "outputs": [],
   "source": []
  }
 ],
 "metadata": {
  "kernelspec": {
   "display_name": "Python 3",
   "language": "python",
   "name": "python3"
  },
  "language_info": {
   "codemirror_mode": {
    "name": "ipython",
    "version": 3
   },
   "file_extension": ".py",
   "mimetype": "text/x-python",
   "name": "python",
   "nbconvert_exporter": "python",
   "pygments_lexer": "ipython3",
   "version": "3.5.2"
  }
 },
 "nbformat": 4,
 "nbformat_minor": 2
}
